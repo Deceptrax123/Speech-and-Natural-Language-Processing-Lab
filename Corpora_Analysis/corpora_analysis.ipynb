{
 "cells": [
  {
   "cell_type": "code",
   "execution_count": 7,
   "metadata": {},
   "outputs": [
    {
     "data": {
      "text/plain": [
       "'भारत एक समृद्ध सांस्कृतिक और ऐतिहासिक विरासत वाला देश है। इसकी विविधता में अनेक भाषाएँ, धर्म, और परंपराएँ शामिल हैं। भारत की संस्कृति में त्योहारों का एक महत्वपूर्ण स्थान है, जैसे दीवाली, होली, और ईद। यहाँ की कला और साहित्य भी अद्वितीय हैं। महात्मा गांधी, रविंद्रनाथ टैगोर, और स्वामी विवेकानंद जैसी महान विभूतियों ने विश्व भर में भारत की पहचान बनाई है। भारतीय संगीत, नृत्य, और सिनेमा ने भी अंतरराष्ट्रीय स्तर पर अपनी जगह बनाई है।\\n\\nहिंदी भारत की प्रमुख भाषाओं में से एक है, और यह लाखों लोगों की मातृभाषा है। यह भाषा भारतीय संस्कृति और साहित्य का महत्वपूर्ण हिस्सा है। हिंदी भाषा में कई महान कवियों और लेखकों ने अपनी रचनाओं के माध्यम से समाज को जागरूक किया है। प्रेमचंद, हरिवंश राय बच्चन, और मीराबाई जैसे साहित्यकार हिंदी साहित्य के प्रमुख स्तंभ हैं। \\n\\nआधुनिक भारत में, हिंदी का महत्व बढ़ता जा रहा है। शिक्षा, मीडिया, और फिल्म उद्योग में हिंदी की प्रमुख भूमिका है। इंटरनेट और सोशल मीडिया के विस्तार ने भी हिंदी को एक नई पहचान दी है, जहाँ लोग अपने विचार और अनुभव साझा कर सकते हैं। हिंदी न केवल भारत में, बल्कि दुनिया भर में भी बोली और समझी जाती है।\\n'"
      ]
     },
     "execution_count": 7,
     "metadata": {},
     "output_type": "execute_result"
    }
   ],
   "source": [
    "#Read Corpora of Hindi Language\n",
    "with open(\"corpora.txt\",\"r\") as f:\n",
    "    text=f.read()\n",
    "    \n",
    "text"
   ]
  },
  {
   "cell_type": "code",
   "execution_count": 8,
   "metadata": {},
   "outputs": [
    {
     "name": "stdout",
     "output_type": "stream",
     "text": [
      "Total number of tokens:  196\n",
      "Total number of unique tokens:  117\n",
      "Type Token Ratio:  0.5969387755102041\n"
     ]
    }
   ],
   "source": [
    "#Perform Type Token Analysis\n",
    "tokens=text.split()\n",
    "\n",
    "unique_tokens=set(tokens)\n",
    "\n",
    "ttr=len(unique_tokens)/len(tokens)\n",
    "\n",
    "print(\"Total number of tokens: \",len(tokens))\n",
    "print(\"Total number of unique tokens: \",len(unique_tokens))\n",
    "print(\"Type Token Ratio: \",ttr)\n"
   ]
  },
  {
   "cell_type": "code",
   "execution_count": 9,
   "metadata": {},
   "outputs": [
    {
     "name": "stdout",
     "output_type": "stream",
     "text": [
      "Syllable: औ, Frequency: 14\n",
      "Syllable: र, Frequency: 14\n",
      "Syllable: है।, Frequency: 9\n",
      "Syllable: में, Frequency: 9\n",
      "Syllable: दी, Frequency: 8\n",
      "Syllable: हिं, Frequency: 7\n",
      "Syllable: भारत, Frequency: 6\n",
      "Syllable: अ, Frequency: 6\n",
      "Syllable: की, Frequency: 6\n",
      "Syllable: ए, Frequency: 4\n"
     ]
    }
   ],
   "source": [
    "#Syllable Analysis\n",
    "import re\n",
    "from collections import Counter \n",
    "vowels=vowels = \"अआइईउऊऋॠऌॡएऐओऔअंअः\"\n",
    "pattern=syllable_pattern = f'[{vowels}]+|[^\\\\s{vowels}]+[{vowels}]?'\n",
    "\n",
    "syllables=re.findall(syllable_pattern,text)\n",
    "syl_freq=Counter(syllables)\n",
    "\n",
    "most_common=syl_freq.most_common(10)\n",
    "\n",
    "for syllable,freq in most_common:\n",
    "    print(f\"Syllable: {syllable}, Frequency: {freq}\")\n",
    "    "
   ]
  },
  {
   "cell_type": "code",
   "execution_count": 10,
   "metadata": {},
   "outputs": [],
   "source": [
    "def extract_syllables(word):\n",
    "    vowels = \"अआइईउऊऋॠऌॡएऐओऔअंअः\"\n",
    "    syllable_pattern = f'[{vowels}]+|[^\\\\s{vowels}]+[{vowels}]?'\n",
    "    syllables = re.findall(syllable_pattern, word)\n",
    "    \n",
    "    return syllables"
   ]
  },
  {
   "cell_type": "code",
   "execution_count": 12,
   "metadata": {},
   "outputs": [],
   "source": [
    "#Analysis for word initial, medial and final positions\n",
    "initial_syllable=Counter()\n",
    "medial_syllable=Counter()\n",
    "final_syllable=Counter()\n",
    "\n",
    "for token in tokens:\n",
    "    syllables=extract_syllables(token)\n",
    "\n",
    "    if len(syllables) > 0:\n",
    "        initial_syllable[syllables[0]] += 1\n",
    "    if len(syllables) > 2:\n",
    "        for medial in  syllables[1:-1]:\n",
    "            medial_syllable[medial] += 1\n",
    "    if len(syllables) > 1:\n",
    "        final_syllable[syllables[-1]] += 1\n",
    "\n",
    "#Top 10 most frequent\n",
    "most_common_initial_syllables = initial_syllable.most_common(10)\n",
    "most_common_medial_syllables = medial_syllable.most_common(10)\n",
    "most_common_final_syllables = final_syllable.most_common(10)\n"
   ]
  },
  {
   "cell_type": "code",
   "execution_count": 13,
   "metadata": {},
   "outputs": [
    {
     "name": "stdout",
     "output_type": "stream",
     "text": [
      "Most Frequent Initial Syllables: \n",
      "Syllable: औ, Frequency: 14\n",
      "Syllable: है।, Frequency: 9\n",
      "Syllable: में, Frequency: 9\n",
      "Syllable: हिं, Frequency: 7\n",
      "Syllable: भारत, Frequency: 6\n",
      "Syllable: अ, Frequency: 6\n",
      "Syllable: की, Frequency: 6\n",
      "Syllable: ए, Frequency: 4\n",
      "Syllable: हैं, Frequency: 4\n",
      "Syllable: भी, Frequency: 4\n",
      "Most Frequent Medial Syllables:\n",
      "Syllable: पराए, Frequency: 1\n",
      "Most Frequent Final Syllables:\n",
      "Syllable: र, Frequency: 14\n",
      "Syllable: दी, Frequency: 7\n",
      "Syllable: क, Frequency: 4\n",
      "Syllable: ।, Frequency: 4\n",
      "Syllable: स्कृति, Frequency: 2\n",
      "Syllable: पनी, Frequency: 2\n",
      "Syllable: ं, Frequency: 2\n",
      "Syllable: ,, Frequency: 2\n",
      "Syllable: स्कृतिक, Frequency: 1\n",
      "Syllable: तिहासिक, Frequency: 1\n"
     ]
    }
   ],
   "source": [
    "print(\"Most Frequent Initial Syllables: \")\n",
    "for syllable, freq in most_common_initial_syllables:\n",
    "    print(f\"Syllable: {syllable}, Frequency: {freq}\")\n",
    "\n",
    "print(\"Most Frequent Medial Syllables:\")\n",
    "for syllable, freq in most_common_medial_syllables:\n",
    "    print(f\"Syllable: {syllable}, Frequency: {freq}\")\n",
    "\n",
    "print(\"Most Frequent Final Syllables:\")\n",
    "for syllable, freq in most_common_final_syllables:\n",
    "    print(f\"Syllable: {syllable}, Frequency: {freq}\")"
   ]
  },
  {
   "cell_type": "code",
   "execution_count": null,
   "metadata": {},
   "outputs": [],
   "source": []
  }
 ],
 "metadata": {
  "kernelspec": {
   "display_name": ".venv",
   "language": "python",
   "name": "python3"
  },
  "language_info": {
   "codemirror_mode": {
    "name": "ipython",
    "version": 3
   },
   "file_extension": ".py",
   "mimetype": "text/x-python",
   "name": "python",
   "nbconvert_exporter": "python",
   "pygments_lexer": "ipython3",
   "version": "3.12.4"
  }
 },
 "nbformat": 4,
 "nbformat_minor": 2
}
